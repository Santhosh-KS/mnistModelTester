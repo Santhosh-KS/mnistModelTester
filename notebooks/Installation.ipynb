{
 "cells": [
  {
   "cell_type": "markdown",
   "metadata": {},
   "source": [
    "# Software Installation Guide\n",
    "\n",
    "## Install dependencies\n",
    "\n",
    "### Install Wt\n",
    "\n",
    "- Download the tar file from the [Wt website](https://www.webtoolkit.eu/wt/download)\n",
    "- Extract the file in /opt/ directory \n",
    "- install by following the INSTALL document in the extracted folder.\n",
    "\n",
    "### Install RapidJson\n",
    "\n",
    "- `git clone https://github.com/Tencent/rapidjson.git /opt/rapidjson`\n",
    "\n",
    "### Install gtest (For C++ unit tests to compile) OPTIONAL\n",
    "\n",
    "Follow the instructions provide [here](https://github.com/iat-cener/tonatiuh/wiki/Installing-Google-Test-For-Linux)\n",
    "\n",
    "## Build\n",
    "\n",
    "- `git clone https://github.com/Santhosh-KS/mnistModelTester.git`\n",
    "- `cd mnistModelTester`\n",
    "- `mkdir build`\n",
    "- `./ClientRun.sh`\n",
    "\n",
    "By running ./ClientRun.sh it builds all the components including the unittests and server and client code all at once.\n",
    "\n",
    "you can find the required binaries in **build** directory.\n",
    "\n",
    "you need to create a softlink under **mnistModelTester/client/ui/** a link to Wt's resource directory present in **/opt/Wt4.0.4/resources**\n",
    "\n",
    "- `cd mnistModelTester/client/ui/`\n",
    "- `ln -s /opt/Wt4.0.4/resources resources`\n",
    "\n",
    "\n",
    "If you want to change the IP or port number. Feel free to have a look at the **ClientRun.sh** file and modify as required."
   ]
  },
  {
   "cell_type": "code",
   "execution_count": null,
   "metadata": {},
   "outputs": [],
   "source": []
  }
 ],
 "metadata": {
  "kernelspec": {
   "display_name": "Python 3",
   "language": "python",
   "name": "python3"
  },
  "language_info": {
   "codemirror_mode": {
    "name": "ipython",
    "version": 3
   },
   "file_extension": ".py",
   "mimetype": "text/x-python",
   "name": "python",
   "nbconvert_exporter": "python",
   "pygments_lexer": "ipython3",
   "version": "3.6.6"
  }
 },
 "nbformat": 4,
 "nbformat_minor": 2
}
