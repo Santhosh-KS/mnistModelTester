{
 "cells": [
  {
   "cell_type": "markdown",
   "metadata": {},
   "source": [
    "## MNIST Data model explaination (500 image samples only)"
   ]
  },
  {
   "cell_type": "code",
   "execution_count": 7,
   "metadata": {},
   "outputs": [
    {
     "name": "stdout",
     "output_type": "stream",
     "text": [
      "The autoreload extension is already loaded. To reload it, use:\n",
      "  %reload_ext autoreload\n"
     ]
    }
   ],
   "source": [
    "%load_ext autoreload\n",
    "%autoreload 2\n",
    "%matplotlib inline"
   ]
  },
  {
   "cell_type": "markdown",
   "metadata": {},
   "source": [
    "### Step 1: Fetch data"
   ]
  },
  {
   "cell_type": "code",
   "execution_count": 8,
   "metadata": {},
   "outputs": [],
   "source": [
    "from sklearn.datasets import fetch_mldata"
   ]
  },
  {
   "cell_type": "code",
   "execution_count": 9,
   "metadata": {},
   "outputs": [
    {
     "name": "stderr",
     "output_type": "stream",
     "text": [
      "/home/santhosh/projects/anaconda3/envs/py35/lib/python3.5/site-packages/sklearn/utils/deprecation.py:77: DeprecationWarning: Function fetch_mldata is deprecated; fetch_mldata was deprecated in version 0.20 and will be removed in version 0.22\n",
      "  warnings.warn(msg, category=DeprecationWarning)\n",
      "/home/santhosh/projects/anaconda3/envs/py35/lib/python3.5/site-packages/sklearn/utils/deprecation.py:77: DeprecationWarning: Function mldata_filename is deprecated; mldata_filename was deprecated in version 0.20 and will be removed in version 0.22\n",
      "  warnings.warn(msg, category=DeprecationWarning)\n"
     ]
    }
   ],
   "source": [
    "mnist = fetch_mldata('MNIST original')"
   ]
  },
  {
   "cell_type": "markdown",
   "metadata": {},
   "source": [
    "Check if the data is downloaded properly."
   ]
  },
  {
   "cell_type": "code",
   "execution_count": 10,
   "metadata": {},
   "outputs": [
    {
     "data": {
      "text/plain": [
       "((70000, 784), (70000,))"
      ]
     },
     "execution_count": 10,
     "metadata": {},
     "output_type": "execute_result"
    }
   ],
   "source": [
    "mnist.data.shape, mnist.target.shape"
   ]
  },
  {
   "cell_type": "markdown",
   "metadata": {},
   "source": [
    "Let us try to split the data in to 400 for training and 100 for testing manually. (requirement from problem statement)."
   ]
  },
  {
   "cell_type": "code",
   "execution_count": 11,
   "metadata": {},
   "outputs": [
    {
     "data": {
      "text/plain": [
       "((400, 784), (100, 784), (400,), (100,))"
      ]
     },
     "execution_count": 11,
     "metadata": {},
     "output_type": "execute_result"
    }
   ],
   "source": [
    "x_train_400 = mnist.data[:400]\n",
    "x_test_400 = mnist.data[400:500]\n",
    "y_train_400 = mnist.target[:400]\n",
    "y_test_400 = mnist.target[400:500]\n",
    "x_train_400.shape, x_test_400.shape, y_train_400.shape, y_test_400.shape"
   ]
  },
  {
   "cell_type": "markdown",
   "metadata": {},
   "source": [
    "Let us see how our data split looks like."
   ]
  },
  {
   "cell_type": "code",
   "execution_count": 12,
   "metadata": {},
   "outputs": [],
   "source": [
    "import matplotlib.pyplot as plt\n",
    "import numpy as np"
   ]
  },
  {
   "cell_type": "markdown",
   "metadata": {},
   "source": [
    "Just a convenience function to plot the histogram. "
   ]
  },
  {
   "cell_type": "code",
   "execution_count": 13,
   "metadata": {},
   "outputs": [],
   "source": [
    "def plot_hist(val,ylim=500):\n",
    "    plt.hist(val,facecolor='g', alpha=0.7)\n",
    "    plt.axis([0, 9, 0, ylim])\n",
    "    plt.xlabel('Digits(0-9)')\n",
    "    plt.ylabel('Number of images')\n",
    "    plt.show()\n",
    "    return"
   ]
  },
  {
   "cell_type": "code",
   "execution_count": 14,
   "metadata": {},
   "outputs": [
    {
     "data": {
      "image/png": "[encoded data removed]",
      "text/plain": [
       "<Figure size 432x288 with 1 Axes>"
      ]
     },
     "metadata": {
      "needs_background": "light"
     },
     "output_type": "display_data"
    }
   ],
   "source": [
    "plot_hist(y_train_400)"
   ]
  },
  {
   "cell_type": "markdown",
   "metadata": {},
   "source": [
    "Oh shoot! we wanted our data set to cover a range between **0 to 9**. But our logic to split the data set is flawed. i.e. looks like we only have images of **'0'**. If we build a model with above data set, it fails to classify the digits properly. So, our immideate next step is to get the evenly distributed samples of data."
   ]
  },
  {
   "cell_type": "markdown",
   "metadata": {},
   "source": [
    "### Step 2: Get evenly distributed data samples\n",
    "\n",
    "There are many ways you can do it. But I'm choosing the **pandas** to do the data splitting job for me. Let us see how we can do that."
   ]
  },
  {
   "cell_type": "code",
   "execution_count": 16,
   "metadata": {},
   "outputs": [],
   "source": [
    "import pandas as pd"
   ]
  },
  {
   "cell_type": "code",
   "execution_count": 17,
   "metadata": {},
   "outputs": [
    {
     "data": {
      "text/plain": [
       "((70000, 784), (70000, 1))"
      ]
     },
     "execution_count": 17,
     "metadata": {},
     "output_type": "execute_result"
    }
   ],
   "source": [
    "x_train_df = pd.DataFrame(mnist.data)\n",
    "y_train_df = pd.DataFrame(mnist.target)\n",
    "#y_train_df.head(5)\n",
    "#x_train_df.head(5)\n",
    "x_train_df.shape, y_train_df.shape"
   ]
  },
  {
   "cell_type": "code",
   "execution_count": 18,
   "metadata": {},
   "outputs": [
    {
     "data": {
      "text/plain": [
       "(70000, 785)"
      ]
     },
     "execution_count": 18,
     "metadata": {},
     "output_type": "execute_result"
    }
   ],
   "source": [
    "dataset=pd.concat([x_train_df,y_train_df],axis=1)\n",
    "dataset.shape"
   ]
  },
  {
   "cell_type": "markdown",
   "metadata": {},
   "source": [
    "Now let us select some samples to get the evenly distributed data which we are interested in."
   ]
  },
  {
   "cell_type": "code",
   "execution_count": 19,
   "metadata": {},
   "outputs": [
    {
     "data": {
      "text/plain": [
       "(500, 785)"
      ]
     },
     "execution_count": 19,
     "metadata": {},
     "output_type": "execute_result"
    }
   ],
   "source": [
    "dataset_500=dataset.sample(500,axis=0,random_state=1)\n",
    "dataset_500.shape"
   ]
  },
  {
   "cell_type": "code",
   "execution_count": 20,
   "metadata": {},
   "outputs": [
    {
     "data": {
      "text/plain": [
       "((500, 784), (500,))"
      ]
     },
     "execution_count": 20,
     "metadata": {},
     "output_type": "execute_result"
    }
   ],
   "source": [
    "labels=dataset_500.iloc[:,-1]\n",
    "dataset_500 = dataset_500.iloc[:, :-1]\n",
    "dataset_500.shape,labels.shape"
   ]
  },
  {
   "cell_type": "code",
   "execution_count": 21,
   "metadata": {},
   "outputs": [
    {
     "data": {
      "text/plain": [
       "2.0    59\n",
       "7.0    54\n",
       "1.0    54\n",
       "4.0    52\n",
       "0.0    51\n",
       "8.0    51\n",
       "6.0    49\n",
       "9.0    47\n",
       "3.0    42\n",
       "5.0    41\n",
       "Name: 0, dtype: int64"
      ]
     },
     "execution_count": 21,
     "metadata": {},
     "output_type": "execute_result"
    }
   ],
   "source": [
    "labels.value_counts()"
   ]
  },
  {
   "cell_type": "code",
   "execution_count": 22,
   "metadata": {},
   "outputs": [
    {
     "data": {
      "image/png": "[encoded data removed]",
      "text/plain": [
       "<Figure size 432x288 with 1 Axes>"
      ]
     },
     "metadata": {
      "needs_background": "light"
     },
     "output_type": "display_data"
    }
   ],
   "source": [
    "labels.hist()\n",
    "plt.xlabel('Digits(0-9)')\n",
    "plt.ylabel('Number of images')\n",
    "plt.show()"
   ]
  },
  {
   "cell_type": "markdown",
   "metadata": {},
   "source": [
    "Our data distribution looks good. Now we can split our data in to training and testing test. Let us do it by using the sklearn **train_test_split** utility."
   ]
  },
  {
   "cell_type": "code",
   "execution_count": 23,
   "metadata": {},
   "outputs": [
    {
     "data": {
      "text/plain": [
       "((400, 784), (100, 784), (400,), (100,))"
      ]
     },
     "execution_count": 23,
     "metadata": {},
     "output_type": "execute_result"
    }
   ],
   "source": [
    "from sklearn.model_selection import train_test_split\n",
    "train_img_df, test_img_df, train_lbl_df, test_lbl_df = train_test_split(\n",
    " dataset_500, labels, test_size=0.2, random_state=1)\n",
    "train_img_df.shape,test_img_df.shape,train_lbl_df.shape, test_lbl_df.shape"
   ]
  },
  {
   "cell_type": "code",
   "execution_count": 24,
   "metadata": {},
   "outputs": [
    {
     "data": {
      "text/plain": [
       "pandas.core.frame.DataFrame"
      ]
     },
     "execution_count": 24,
     "metadata": {},
     "output_type": "execute_result"
    }
   ],
   "source": [
    "type(train_img_df)"
   ]
  },
  {
   "cell_type": "markdown",
   "metadata": {},
   "source": [
    "Since we took panda's help in getting our data distribution issue sorted. We still have the data in panda's dataframe format.But we need the data in numpy array format. Let us convert the dataframe in to np.array()."
   ]
  },
  {
   "cell_type": "code",
   "execution_count": 25,
   "metadata": {},
   "outputs": [],
   "source": [
    "train_img = np.array(train_img_df.values.tolist())\n",
    "test_img = np.array(test_img_df.values.tolist())\n",
    "train_lbl = np.array(train_lbl_df.values.tolist())\n",
    "test_lbl = np.array(test_lbl_df.values.tolist())"
   ]
  },
  {
   "cell_type": "markdown",
   "metadata": {},
   "source": [
    "## Train-data image distribution"
   ]
  },
  {
   "cell_type": "code",
   "execution_count": 26,
   "metadata": {},
   "outputs": [
    {
     "data": {
      "image/png": "[encoded data removed]",
      "text/plain": [
       "<Figure size 432x288 with 1 Axes>"
      ]
     },
     "metadata": {
      "needs_background": "light"
     },
     "output_type": "display_data"
    }
   ],
   "source": [
    "plot_hist(train_lbl,ylim=60)"
   ]
  },
  {
   "cell_type": "markdown",
   "metadata": {},
   "source": [
    "### Test-data image distribution"
   ]
  },
  {
   "cell_type": "code",
   "execution_count": 27,
   "metadata": {},
   "outputs": [
    {
     "data": {
      "image/png": "[encoded data removed]",
      "text/plain": [
       "<Figure size 432x288 with 1 Axes>"
      ]
     },
     "metadata": {
      "needs_background": "light"
     },
     "output_type": "display_data"
    }
   ],
   "source": [
    "plot_hist(test_lbl,ylim=25)"
   ]
  },
  {
   "cell_type": "markdown",
   "metadata": {},
   "source": [
    "If the distribution dosn't look good, just re-run the cells where we did  **dataset.sample(500,axis=0,random_state=1)** with **random_state=0** couple of times to get the image distribution as shown above. "
   ]
  },
  {
   "cell_type": "markdown",
   "metadata": {},
   "source": [
    "### Step 3: Visualize images\n"
   ]
  },
  {
   "cell_type": "code",
   "execution_count": 28,
   "metadata": {},
   "outputs": [],
   "source": [
    "import numpy as np"
   ]
  },
  {
   "cell_type": "code",
   "execution_count": 29,
   "metadata": {},
   "outputs": [],
   "source": [
    "def visualize(ims, figsize=(8,8), rows=2, titles=None):\n",
    "    f = plt.figure(figsize=figsize)\n",
    "    cols = len(ims)/rows\n",
    "    for i in range(len(ims)):\n",
    "        sp = f.add_subplot(rows, cols, i+1)\n",
    "        sp.axis('Off')\n",
    "        if titles is not None: sp.set_title(titles[i], fontsize=16)\n",
    "        plt.imshow(ims[i], cmap='gray')"
   ]
  },
  {
   "cell_type": "code",
   "execution_count": 30,
   "metadata": {},
   "outputs": [
    {
     "data": {
      "text/plain": [
       "(400, 28, 28)"
      ]
     },
     "execution_count": 30,
     "metadata": {},
     "output_type": "execute_result"
    }
   ],
   "source": [
    "x_imgs = np.reshape(train_img, (-1,28,28)); x_imgs.shape"
   ]
  },
  {
   "cell_type": "code",
   "execution_count": 31,
   "metadata": {},
   "outputs": [
    {
     "data": {
      "image/png": "[encoded data removed]",
      "text/plain": [
       "<Figure size 576x576 with 4 Axes>"
      ]
     },
     "metadata": {
      "needs_background": "light"
     },
     "output_type": "display_data"
    }
   ],
   "source": [
    "visualize(x_imgs[20:24],titles=train_lbl[20:24])"
   ]
  },
  {
   "cell_type": "markdown",
   "metadata": {},
   "source": [
    "# Logistic Regression"
   ]
  },
  {
   "cell_type": "code",
   "execution_count": 32,
   "metadata": {},
   "outputs": [],
   "source": [
    "from sklearn.linear_model import LogisticRegression"
   ]
  },
  {
   "cell_type": "markdown",
   "metadata": {},
   "source": [
    "For now just run with the default values of the Logistic regressor.\n",
    "\n",
    "**TODO:** play around with the parameters to get better accuracy."
   ]
  },
  {
   "cell_type": "code",
   "execution_count": 33,
   "metadata": {},
   "outputs": [],
   "source": [
    "logisticRegr = LogisticRegression()"
   ]
  },
  {
   "cell_type": "code",
   "execution_count": 34,
   "metadata": {},
   "outputs": [
    {
     "name": "stderr",
     "output_type": "stream",
     "text": [
      "/home/santhosh/projects/anaconda3/envs/py35/lib/python3.5/site-packages/sklearn/linear_model/logistic.py:432: FutureWarning: Default solver will be changed to 'lbfgs' in 0.22. Specify a solver to silence this warning.\n",
      "  FutureWarning)\n",
      "/home/santhosh/projects/anaconda3/envs/py35/lib/python3.5/site-packages/sklearn/linear_model/logistic.py:459: FutureWarning: Default multi_class will be changed to 'auto' in 0.22. Specify the multi_class option to silence this warning.\n",
      "  \"this warning.\", FutureWarning)\n"
     ]
    },
    {
     "data": {
      "text/plain": [
       "LogisticRegression(C=1.0, class_weight=None, dual=False, fit_intercept=True,\n",
       "          intercept_scaling=1, max_iter=100, multi_class='warn',\n",
       "          n_jobs=None, penalty='l2', random_state=None, solver='warn',\n",
       "          tol=0.0001, verbose=0, warm_start=False)"
      ]
     },
     "execution_count": 34,
     "metadata": {},
     "output_type": "execute_result"
    }
   ],
   "source": [
    "logisticRegr.fit(train_img, train_lbl)"
   ]
  },
  {
   "cell_type": "markdown",
   "metadata": {},
   "source": [
    "Let us predict and see how well our model is doing.\n",
    "\n",
    "pridict on single image."
   ]
  },
  {
   "cell_type": "code",
   "execution_count": 35,
   "metadata": {},
   "outputs": [
    {
     "data": {
      "text/plain": [
       "array([0.])"
      ]
     },
     "execution_count": 35,
     "metadata": {},
     "output_type": "execute_result"
    }
   ],
   "source": [
    "logisticRegr.predict(test_img[0].reshape(1,-1))"
   ]
  },
  {
   "cell_type": "code",
   "execution_count": 36,
   "metadata": {},
   "outputs": [
    {
     "data": {
      "text/plain": [
       "0.0"
      ]
     },
     "execution_count": 36,
     "metadata": {},
     "output_type": "execute_result"
    }
   ],
   "source": [
    "test_lbl[0]"
   ]
  },
  {
   "cell_type": "markdown",
   "metadata": {},
   "source": [
    "Predict on multiple images"
   ]
  },
  {
   "cell_type": "code",
   "execution_count": 37,
   "metadata": {},
   "outputs": [
    {
     "data": {
      "text/plain": [
       "(array([1., 6., 6., 2., 7., 4., 7., 9., 9., 4.]),\n",
       " array([1., 6., 6., 2., 7., 4., 9., 9., 9., 4.]))"
      ]
     },
     "execution_count": 37,
     "metadata": {},
     "output_type": "execute_result"
    }
   ],
   "source": [
    "predict_lables = logisticRegr.predict(test_img[10:20])\n",
    "predict_lables,test_lbl[10:20]"
   ]
  },
  {
   "cell_type": "markdown",
   "metadata": {},
   "source": [
    "Looks like there are some images which are being misclassified. Let us try to visualize them to get better clarity."
   ]
  },
  {
   "cell_type": "code",
   "execution_count": 38,
   "metadata": {},
   "outputs": [
    {
     "data": {
      "text/plain": [
       "(100, 28, 28)"
      ]
     },
     "execution_count": 38,
     "metadata": {},
     "output_type": "execute_result"
    }
   ],
   "source": [
    "predict_img = np.reshape(test_img, (-1,28,28)); predict_img.shape"
   ]
  },
  {
   "cell_type": "code",
   "execution_count": 39,
   "metadata": {},
   "outputs": [
    {
     "data": {
      "image/png": "[encoded data removed]",
      "text/plain": [
       "<Figure size 576x576 with 4 Axes>"
      ]
     },
     "metadata": {
      "needs_background": "light"
     },
     "output_type": "display_data"
    }
   ],
   "source": [
    "visualize(predict_img[14:18],titles=predict_lables[4:8])"
   ]
  },
  {
   "cell_type": "markdown",
   "metadata": {},
   "source": [
    "Okay, it is clear from the above visualization that some digts are misclassified. In the image above **9 is being misclassified as 7**. Let us see what is the accuracy of our model."
   ]
  },
  {
   "cell_type": "code",
   "execution_count": 40,
   "metadata": {},
   "outputs": [
    {
     "name": "stdout",
     "output_type": "stream",
     "text": [
      "0.81\n"
     ]
    }
   ],
   "source": [
    "score = logisticRegr.score(test_img, test_lbl)\n",
    "print(score)"
   ]
  },
  {
   "cell_type": "markdown",
   "metadata": {},
   "source": [
    "Looks like our model is only **81% accuracate**. That means we need to fine tune some parameters to achive better accracy. \n",
    "\n",
    "Also, let us see how our model is performing using a metric called confusion matrix. To build the confusion matrix we need to have the predictions of all our test images. Getting them is very easy as shown below."
   ]
  },
  {
   "cell_type": "code",
   "execution_count": 41,
   "metadata": {},
   "outputs": [
    {
     "data": {
      "text/plain": [
       "(array([0., 9., 2., 9., 8., 5., 0., 2., 7., 0., 1., 6., 6., 2., 7., 4., 7.,\n",
       "        9., 9., 4., 6., 9., 1., 9., 9., 6., 8., 0., 8., 3., 8., 0., 3., 4.,\n",
       "        1., 0., 8., 8., 0., 2., 6., 2., 0., 7., 2., 3., 0., 2., 2., 6., 2.,\n",
       "        0., 1., 8., 4., 4., 8., 1., 6., 3., 2., 0., 4., 4., 3., 7., 1., 9.,\n",
       "        3., 7., 1., 2., 9., 0., 0., 7., 1., 7., 4., 8., 2., 3., 3., 0., 9.,\n",
       "        5., 1., 8., 7., 0., 8., 3., 9., 8., 7., 7., 7., 5., 9., 4.]),\n",
       " array([0., 9., 2., 9., 8., 5., 0., 2., 7., 0., 1., 6., 6., 2., 7., 4., 9.,\n",
       "        9., 9., 4., 6., 9., 7., 4., 9., 6., 8., 0., 5., 2., 8., 0., 3., 4.,\n",
       "        1., 9., 8., 8., 0., 4., 6., 2., 0., 7., 2., 3., 0., 6., 2., 6., 2.,\n",
       "        5., 1., 8., 4., 9., 8., 2., 2., 8., 2., 0., 4., 4., 3., 7., 1., 9.,\n",
       "        3., 7., 1., 2., 9., 0., 0., 7., 1., 7., 4., 8., 2., 3., 9., 0., 8.,\n",
       "        5., 1., 8., 7., 0., 2., 3., 4., 2., 7., 7., 7., 5., 2., 4.]))"
      ]
     },
     "execution_count": 41,
     "metadata": {},
     "output_type": "execute_result"
    }
   ],
   "source": [
    "predictions = logisticRegr.predict(test_img)\n",
    "predictions, test_lbl"
   ]
  },
  {
   "cell_type": "markdown",
   "metadata": {},
   "source": [
    "### Performance measure using confusion matrix"
   ]
  },
  {
   "cell_type": "code",
   "execution_count": 43,
   "metadata": {},
   "outputs": [],
   "source": [
    "import matplotlib.pyplot as plt\n",
    "import seaborn as sns\n",
    "from sklearn import metrics"
   ]
  },
  {
   "cell_type": "code",
   "execution_count": 44,
   "metadata": {},
   "outputs": [
    {
     "name": "stdout",
     "output_type": "stream",
     "text": [
      "[[13  0  0  0  0  0  0  0  0  0]\n",
      " [ 0  7  0  0  0  0  0  0  0  0]\n",
      " [ 0  1 10  1  0  0  1  0  2  1]\n",
      " [ 0  0  0  6  0  0  0  0  0  0]\n",
      " [ 0  0  1  0  8  0  0  0  0  2]\n",
      " [ 1  0  0  0  0  3  0  0  1  0]\n",
      " [ 0  0  1  0  0  0  6  0  0  0]\n",
      " [ 0  1  0  0  0  0  0 11  0  0]\n",
      " [ 0  0  0  1  0  0  0  0  9  1]\n",
      " [ 1  0  0  1  1  0  0  1  0  8]]\n"
     ]
    }
   ],
   "source": [
    "cm = metrics.confusion_matrix(test_lbl, predictions)\n",
    "print(cm)"
   ]
  },
  {
   "cell_type": "markdown",
   "metadata": {},
   "source": [
    "Above confusion matrix in text output is not that appealing. Lets use some magic of seaborn and beautify the confusion matrix more visaually appealing."
   ]
  },
  {
   "cell_type": "code",
   "execution_count": 45,
   "metadata": {},
   "outputs": [
    {
     "data": {
      "image/png": "[encoded data removed]",
      "text/plain": [
       "<Figure size 648x648 with 2 Axes>"
      ]
     },
     "metadata": {
      "needs_background": "light"
     },
     "output_type": "display_data"
    }
   ],
   "source": [
    "plt.figure(figsize=(9,9))\n",
    "#sns.heatmap(cm, annot=True, linewidths=.5, square = True, cmap = 'Blues_r');\n",
    "sns.heatmap(cm, annot=True, linewidths=.5, square = True, cmap = 'Blues_r');\n",
    "plt.ylabel('Actual label');\n",
    "plt.xlabel('Predicted label');\n",
    "all_sample_title = 'Accuracy Score: {0}'.format(score)\n",
    "plt.title(all_sample_title, size = 15);"
   ]
  },
  {
   "cell_type": "markdown",
   "metadata": {},
   "source": [
    "Much better and very pleasing effect on eyes. Let us try to understand the confusion matrix of our model a bit. Let us go over it column by column.\n",
    "\n",
    "1st column is labled-0 that means it is the prediction values for 0. There are 15 (add all the number in column zero) zero's in our test sample it classified 13 of them correctly as zero. But it calssified 2 images incorrectly as 5 and 9.\n",
    "\n",
    "Similarly we can go over each of the columns for each of the each digits to understand which images our model is classifying correctly or misclassifying. Color map on the right hand side helps us visualy identify the same. As we move from darker shade of blue to ligher shade, our model is performing better. For example digits 0,7,2 are better classified than digits 5,1 and 6 etc.\n",
    "\n"
   ]
  },
  {
   "cell_type": "markdown",
   "metadata": {},
   "source": [
    "### Save the Model\n",
    "\n",
    "Once we are happy with our model, we can save it in pickle format and re-load it in our deployment model."
   ]
  },
  {
   "cell_type": "code",
   "execution_count": 46,
   "metadata": {},
   "outputs": [],
   "source": [
    "import pickle"
   ]
  },
  {
   "cell_type": "code",
   "execution_count": 47,
   "metadata": {},
   "outputs": [],
   "source": [
    "filename = 'logistic_regression_model_default.pkl'\n",
    "pickle.dump(logisticRegr, open(filename, 'wb'))"
   ]
  },
  {
   "cell_type": "markdown",
   "metadata": {},
   "source": [
    "## K-NN Classifier for MNIST dataset"
   ]
  },
  {
   "cell_type": "markdown",
   "metadata": {},
   "source": [
    "We have already gone over aquiring evenly distributed samples of data aggregation process. It is the same process if we are doing the logisticRegression or K-NN or any other classifier. If we want KNN to be done in a different notebook, just copy paste first few cells (step-1 to step-3) of this notebook we are all good.\n",
    "I also assume we all know what is K Nearest Neighbour algorithm is and how it works etc. So lets directly jump in to building a model using sklearn's KNN implementation."
   ]
  },
  {
   "cell_type": "code",
   "execution_count": 48,
   "metadata": {},
   "outputs": [
    {
     "data": {
      "text/plain": [
       "array([0.])"
      ]
     },
     "execution_count": 48,
     "metadata": {},
     "output_type": "execute_result"
    }
   ],
   "source": [
    "from sklearn.neighbors import KNeighborsClassifier\n",
    "knnModel = KNeighborsClassifier()\n",
    "knnModel.fit(train_img,train_lbl)\n",
    "knnModel.predict(test_img[0].reshape(1,-1))"
   ]
  },
  {
   "cell_type": "markdown",
   "metadata": {},
   "source": [
    "That is it! all we need is just 4 lines of code in python to create a model from K-NN algorithm. Default KNeighborsClassifier() uses n_neighbours = 5. But for our model to work better we need to choose the value of k which gives the best accuracy. Let us see how we can do that.\n",
    "\n",
    "Creating a method knn() for the convenience of testing with different parameters quickly, without repeating code. Advantages is quite profound which we see below."
   ]
  },
  {
   "cell_type": "code",
   "execution_count": 49,
   "metadata": {},
   "outputs": [],
   "source": [
    "def knn(algo='auto',leafSize=30):\n",
    "    # initialize the values of k for our k-Nearest Neighbor classifier along with the\n",
    "    # list of accuracies for each value of k\n",
    "    kVals = range(1, 30, 2)\n",
    "    accuracies = []\n",
    "\n",
    "    # loop over various values of `k` for the k-Nearest Neighbor classifier\n",
    "    for k in range(1, 30, 2):\n",
    "        # train the k-Nearest Neighbor classifier with the current value of `k`\n",
    "        model = KNeighborsClassifier(n_neighbors=k, algorithm=algo, leaf_size=leafSize)\n",
    "        model.fit(train_img, train_lbl)\n",
    "\n",
    "        # evaluate the model and update the accuracies list\n",
    "        score = model.score(test_img, test_lbl)\n",
    "        print('k = {}, accuracies = {}'.format(k, (score*100)))\n",
    "        accuracies.append(score)\n",
    "\n",
    "    # find the value of k that has the largest accuracy\n",
    "    i = int(np.argmax(accuracies))\n",
    "    print('k = {} achieved highest accuracy of {}.'.format(kVals[i],accuracies[i]*100))\n",
    "    return"
   ]
  },
  {
   "cell_type": "code",
   "execution_count": 50,
   "metadata": {},
   "outputs": [
    {
     "name": "stdout",
     "output_type": "stream",
     "text": [
      "k = 1, accuracies = 84.0\n",
      "k = 3, accuracies = 80.0\n",
      "k = 5, accuracies = 79.0\n",
      "k = 7, accuracies = 80.0\n",
      "k = 9, accuracies = 79.0\n",
      "k = 11, accuracies = 77.0\n",
      "k = 13, accuracies = 76.0\n",
      "k = 15, accuracies = 74.0\n",
      "k = 17, accuracies = 74.0\n",
      "k = 19, accuracies = 73.0\n",
      "k = 21, accuracies = 72.0\n",
      "k = 23, accuracies = 69.0\n",
      "k = 25, accuracies = 69.0\n",
      "k = 27, accuracies = 68.0\n",
      "k = 29, accuracies = 67.0\n",
      "k = 1 achieved highest accuracy of 84.0.\n"
     ]
    }
   ],
   "source": [
    "knn()"
   ]
  },
  {
   "cell_type": "markdown",
   "metadata": {},
   "source": [
    "From the above list it looks like k=1 giving the best accuracy! But choosing the value of k = 1 is not a good option. For this model we will take k=3 instead of 1 and continue with our work. Ofcourse need to finetune the parameters and see if there is any improvements in the accuracy."
   ]
  },
  {
   "cell_type": "code",
   "execution_count": 51,
   "metadata": {},
   "outputs": [
    {
     "name": "stdout",
     "output_type": "stream",
     "text": [
      "k = 1, accuracies = 84.0\n",
      "k = 3, accuracies = 80.0\n",
      "k = 5, accuracies = 79.0\n",
      "k = 7, accuracies = 80.0\n",
      "k = 9, accuracies = 79.0\n",
      "k = 11, accuracies = 77.0\n",
      "k = 13, accuracies = 76.0\n",
      "k = 15, accuracies = 74.0\n",
      "k = 17, accuracies = 74.0\n",
      "k = 19, accuracies = 73.0\n",
      "k = 21, accuracies = 72.0\n",
      "k = 23, accuracies = 69.0\n",
      "k = 25, accuracies = 69.0\n",
      "k = 27, accuracies = 68.0\n",
      "k = 29, accuracies = 67.0\n",
      "k = 1 achieved highest accuracy of 84.0.\n"
     ]
    }
   ],
   "source": [
    "knn(algo='kd_tree',leafSize=50)"
   ]
  },
  {
   "cell_type": "code",
   "execution_count": 52,
   "metadata": {},
   "outputs": [
    {
     "name": "stdout",
     "output_type": "stream",
     "text": [
      "k = 1, accuracies = 84.0\n",
      "k = 3, accuracies = 80.0\n",
      "k = 5, accuracies = 79.0\n",
      "k = 7, accuracies = 80.0\n",
      "k = 9, accuracies = 79.0\n",
      "k = 11, accuracies = 77.0\n",
      "k = 13, accuracies = 76.0\n",
      "k = 15, accuracies = 74.0\n",
      "k = 17, accuracies = 74.0\n",
      "k = 19, accuracies = 73.0\n",
      "k = 21, accuracies = 72.0\n",
      "k = 23, accuracies = 69.0\n",
      "k = 25, accuracies = 69.0\n",
      "k = 27, accuracies = 68.0\n",
      "k = 29, accuracies = 67.0\n",
      "k = 1 achieved highest accuracy of 84.0.\n"
     ]
    }
   ],
   "source": [
    "knn(algo='ball_tree')"
   ]
  },
  {
   "cell_type": "markdown",
   "metadata": {},
   "source": [
    "Okay it is clear that playing around with the algorithm is not helping much. So we keep the algorithm='auto' in our final model."
   ]
  },
  {
   "cell_type": "code",
   "execution_count": 53,
   "metadata": {},
   "outputs": [
    {
     "name": "stdout",
     "output_type": "stream",
     "text": [
      "k = 1, accuracies = 84.0\n",
      "k = 3, accuracies = 80.0\n",
      "k = 5, accuracies = 79.0\n",
      "k = 7, accuracies = 80.0\n",
      "k = 9, accuracies = 79.0\n",
      "k = 11, accuracies = 77.0\n",
      "k = 13, accuracies = 76.0\n",
      "k = 15, accuracies = 74.0\n",
      "k = 17, accuracies = 74.0\n",
      "k = 19, accuracies = 73.0\n",
      "k = 21, accuracies = 72.0\n",
      "k = 23, accuracies = 69.0\n",
      "k = 25, accuracies = 69.0\n",
      "k = 27, accuracies = 68.0\n",
      "k = 29, accuracies = 67.0\n",
      "k = 1 achieved highest accuracy of 84.0.\n"
     ]
    }
   ],
   "source": [
    "knn(leafSize=10)"
   ]
  },
  {
   "cell_type": "code",
   "execution_count": 54,
   "metadata": {},
   "outputs": [
    {
     "name": "stdout",
     "output_type": "stream",
     "text": [
      "k = 1, accuracies = 84.0\n",
      "k = 3, accuracies = 80.0\n",
      "k = 5, accuracies = 79.0\n",
      "k = 7, accuracies = 80.0\n",
      "k = 9, accuracies = 79.0\n",
      "k = 11, accuracies = 77.0\n",
      "k = 13, accuracies = 76.0\n",
      "k = 15, accuracies = 74.0\n",
      "k = 17, accuracies = 74.0\n",
      "k = 19, accuracies = 73.0\n",
      "k = 21, accuracies = 72.0\n",
      "k = 23, accuracies = 69.0\n",
      "k = 25, accuracies = 69.0\n",
      "k = 27, accuracies = 68.0\n",
      "k = 29, accuracies = 67.0\n",
      "k = 1 achieved highest accuracy of 84.0.\n"
     ]
    }
   ],
   "source": [
    "knn(leafSize=20)"
   ]
  },
  {
   "cell_type": "markdown",
   "metadata": {},
   "source": [
    "As we can see we tried to play around with few of the parameters to see if there is any parameters which we can fine tune to get better accuracy. Thanks to knn() method, we were able to run multiple tests quickly with minimal effort. We found that we are getting 79% accuracy with default value of k=5. But if we use k=3 we get 80% accuracy. So we stick with k=3 in our model.\n",
    "\n",
    "But as we observed from our experiments above, changing the algorithm type or leaf size etc didn't have any impact on the model at all. This is a clear indication for us that we need to play with our image data set and not just the parameters.\n",
    "\n",
    "Playing with images, I mean, create your own new image data sets out of existing data sets by doing some image **Augumentation**.\n",
    "\n",
    "For example here is the list of sample **image agumentation** we can do.\n",
    "- rotate the image say about $5\\,^{\\circ}$ to the left or $5\\,^{\\circ}$ to the right\n",
    "- Add a slight blurring effect on the image.\n",
    "- Add some random noice on the image.\n",
    "- Slightly crop the image. without losing the digits in the center.\n",
    "- Dilate/errode the image\n",
    "etc. \n",
    "\n",
    "There is no limit on the options available on image augumentation.\n",
    "\n",
    "**NOTE**: We need to be extreamly careful about what type of agumentation we are doing on MNIST kind of data set. For example, we should not do flip or rotate on the MNIST data set or the dataset where we are trying to classify the text. If we rotate an image of **6 by $180\\,^{\\circ}$ then image becomes 9**. Which is not correct. Similarly if we flip digit **7** it loses its meaning. So we need to be careful in identifying the type of agumentation which are willing to apply on the images."
   ]
  },
  {
   "cell_type": "markdown",
   "metadata": {},
   "source": [
    "As we can see, we can always use image augumentation method in our advantage to increase the amount of images for training and testing purpose, when we have a limited dataset at our disposal. **So image augumentation makes perfect candiate for this problem set, as we are restricted to use only 500 images. More images implies more information for our model to learn, which implies better accuracy.**\n",
    "\n",
    "Applying image agumentation on each of the images and preparing our data again is going to be bit involved and time consuming. Hence I'm not going do image agumentation as part of my solution. As getting the 100% accuracy on this model is not the end goal of this project.\n",
    "\n",
    "Now let us quickly create a KNN model with k=3 and save it in pickle format as earlier to use it in our classifier model"
   ]
  },
  {
   "cell_type": "code",
   "execution_count": 55,
   "metadata": {},
   "outputs": [
    {
     "data": {
      "text/plain": [
       "KNeighborsClassifier(algorithm='auto', leaf_size=30, metric='minkowski',\n",
       "           metric_params=None, n_jobs=None, n_neighbors=3, p=2,\n",
       "           weights='uniform')"
      ]
     },
     "execution_count": 55,
     "metadata": {},
     "output_type": "execute_result"
    }
   ],
   "source": [
    "from sklearn.neighbors import KNeighborsClassifier\n",
    "knnModel = KNeighborsClassifier(n_neighbors=3)\n",
    "knnModel.fit(train_img,train_lbl)\n",
    "#knnModel.predict(test_img[0].reshape(1,-1))"
   ]
  },
  {
   "cell_type": "code",
   "execution_count": 56,
   "metadata": {},
   "outputs": [],
   "source": [
    "# import pickle\n",
    "knnPickleFile = 'knn_model_K_3.pkl'\n",
    "pickle.dump(logisticRegr, open(knnPickleFile, 'wb'))"
   ]
  },
  {
   "cell_type": "markdown",
   "metadata": {},
   "source": [
    "### CNN using Keras and Tensor flow backend"
   ]
  },
  {
   "cell_type": "markdown",
   "metadata": {},
   "source": [
    "As earlier follow the step-1 to step-3 to get the data. Ofcourse keras has its own way of getting the MNIST data, which we are not interested here. We assume we already have the required evenly distributed data with us and train our CNN model on that.\n",
    "We will build a very simple CNN model with couple of hidden layers."
   ]
  },
  {
   "cell_type": "code",
   "execution_count": 57,
   "metadata": {},
   "outputs": [
    {
     "name": "stderr",
     "output_type": "stream",
     "text": [
      "Using TensorFlow backend.\n"
     ]
    }
   ],
   "source": [
    "from keras.models import Sequential\n",
    "from keras.layers import Dense\n",
    "from keras.layers import Dropout\n",
    "from keras.layers import Flatten\n",
    "from keras.layers.convolutional import Conv2D\n",
    "from keras.layers.convolutional import MaxPooling2D\n",
    "from keras.utils import np_utils"
   ]
  },
  {
   "cell_type": "code",
   "execution_count": 58,
   "metadata": {},
   "outputs": [],
   "source": [
    "# fix random seed for reproducibility\n",
    "seed = 7\n",
    "np.random.seed(seed)"
   ]
  },
  {
   "cell_type": "code",
   "execution_count": 59,
   "metadata": {},
   "outputs": [
    {
     "data": {
      "text/plain": [
       "((400, 28, 28, 1), (100, 28, 28, 1))"
      ]
     },
     "execution_count": 59,
     "metadata": {},
     "output_type": "execute_result"
    }
   ],
   "source": [
    "cnn_train_img = train_img_df.values.reshape(400,28,28,1)\n",
    "cnn_test_img = test_img_df.values.reshape(100,28,28,1)\n",
    "cnn_train_img.shape, cnn_test_img.shape"
   ]
  },
  {
   "cell_type": "code",
   "execution_count": 60,
   "metadata": {},
   "outputs": [
    {
     "data": {
      "text/plain": [
       "((400, 10), (100, 10))"
      ]
     },
     "execution_count": 60,
     "metadata": {},
     "output_type": "execute_result"
    }
   ],
   "source": [
    "from keras.utils import to_categorical\n",
    "\n",
    "cnn_train_lbl = to_categorical(train_lbl_df)\n",
    "cnn_test_lbl = to_categorical(test_lbl_df)\n",
    "num_classes = cnn_test_lbl.shape[1]\n",
    "cnn_train_lbl.shape, cnn_test_lbl.shape"
   ]
  },
  {
   "cell_type": "code",
   "execution_count": 61,
   "metadata": {},
   "outputs": [],
   "source": [
    "def simple_cnn_model():\n",
    "    # create model\n",
    "    model = Sequential()\n",
    "    model.add(Conv2D(32, (5, 5), input_shape=(28, 28, 1), activation='relu'))\n",
    "    model.add(MaxPooling2D(pool_size=(2, 2)))\n",
    "    model.add(Dropout(0.2))\n",
    "    model.add(Flatten())\n",
    "    model.add(Dense(128, activation='relu'))\n",
    "    model.add(Dense(num_classes, activation='softmax'))\n",
    "    # Compile model\n",
    "    model.compile(loss='categorical_crossentropy', optimizer='adam', metrics=['accuracy'])\n",
    "    return model"
   ]
  },
  {
   "cell_type": "markdown",
   "metadata": {},
   "source": [
    "Here is the description of the CNN\n",
    "- The first hidden layer is a convolutional layer called a Convolution2D. The layer has 32 feature maps, which with the size of 5×5 and a rectifier activation function. - - Next we define a pooling layer that takes the max called MaxPooling2D. It is configured with a pool size of 2×2.\n",
    "- The next layer is a regularization layer using dropout called Dropout. It is configured to randomly exclude 20% of neurons in the layer in order to reduce overfitting.\n",
    "- Next is a layer that converts the 2D matrix data to a vector called Flatten. It allows the output to be processed by standard fully connected layers.\n",
    "- Next a fully connected layer with 128 neurons and rectifier activation function.\n",
    "- Finally, the output layer has 10 neurons for the 10 classes and a softmax activation function to output probability-like predictions for each class."
   ]
  },
  {
   "cell_type": "code",
   "execution_count": 65,
   "metadata": {},
   "outputs": [
    {
     "name": "stdout",
     "output_type": "stream",
     "text": [
      "Train on 400 samples, validate on 100 samples\n",
      "Epoch 1/70\n",
      " - 1s - loss: 14.1086 - acc: 0.0900 - val_loss: 13.2364 - val_acc: 0.1200\n",
      "Epoch 2/70\n",
      " - 0s - loss: 12.5409 - acc: 0.1850 - val_loss: 11.9173 - val_acc: 0.2500\n",
      "Epoch 3/70\n",
      " - 0s - loss: 11.3277 - acc: 0.2750 - val_loss: 11.1619 - val_acc: 0.3000\n",
      "Epoch 4/70\n",
      " - 0s - loss: 10.7409 - acc: 0.3175 - val_loss: 10.7387 - val_acc: 0.3100\n",
      "Epoch 5/70\n",
      " - 0s - loss: 9.9362 - acc: 0.3575 - val_loss: 10.1766 - val_acc: 0.3600\n",
      "Epoch 6/70\n",
      " - 0s - loss: 9.3306 - acc: 0.3975 - val_loss: 10.5143 - val_acc: 0.3400\n",
      "Epoch 7/70\n",
      " - 0s - loss: 9.0804 - acc: 0.4300 - val_loss: 10.5149 - val_acc: 0.3300\n",
      "Epoch 8/70\n",
      " - 0s - loss: 8.7592 - acc: 0.4475 - val_loss: 10.2464 - val_acc: 0.3600\n",
      "Epoch 9/70\n",
      " - 0s - loss: 8.3505 - acc: 0.4750 - val_loss: 9.9589 - val_acc: 0.3700\n",
      "Epoch 10/70\n",
      " - 0s - loss: 8.3424 - acc: 0.4725 - val_loss: 9.7857 - val_acc: 0.3900\n",
      "Epoch 11/70\n",
      " - 0s - loss: 8.2977 - acc: 0.4775 - val_loss: 9.6717 - val_acc: 0.4000\n",
      "Epoch 12/70\n",
      " - 0s - loss: 8.2571 - acc: 0.4800 - val_loss: 9.7199 - val_acc: 0.3900\n",
      "Epoch 13/70\n",
      " - 0s - loss: 8.0305 - acc: 0.4925 - val_loss: 9.7483 - val_acc: 0.3900\n",
      "Epoch 14/70\n",
      " - 0s - loss: 7.6861 - acc: 0.5125 - val_loss: 9.5585 - val_acc: 0.4000\n",
      "Epoch 15/70\n",
      " - 0s - loss: 7.4041 - acc: 0.5350 - val_loss: 9.3752 - val_acc: 0.4000\n",
      "Epoch 16/70\n",
      " - 0s - loss: 7.1229 - acc: 0.5550 - val_loss: 8.9221 - val_acc: 0.4300\n",
      "Epoch 17/70\n",
      " - 0s - loss: 6.7247 - acc: 0.5700 - val_loss: 8.2366 - val_acc: 0.4600\n",
      "Epoch 18/70\n",
      " - 0s - loss: 6.5264 - acc: 0.5900 - val_loss: 8.1525 - val_acc: 0.4800\n",
      "Epoch 19/70\n",
      " - 0s - loss: 6.4402 - acc: 0.6000 - val_loss: 8.3996 - val_acc: 0.4700\n",
      "Epoch 20/70\n",
      " - 0s - loss: 6.9031 - acc: 0.5625 - val_loss: 8.7758 - val_acc: 0.4300\n",
      "Epoch 21/70\n",
      " - 0s - loss: 7.1311 - acc: 0.5450 - val_loss: 8.9608 - val_acc: 0.4300\n",
      "Epoch 22/70\n",
      " - 0s - loss: 7.4506 - acc: 0.5250 - val_loss: 8.7319 - val_acc: 0.4500\n",
      "Epoch 23/70\n",
      " - 0s - loss: 6.7930 - acc: 0.5700 - val_loss: 8.3190 - val_acc: 0.4800\n",
      "Epoch 24/70\n",
      " - 0s - loss: 6.5613 - acc: 0.5825 - val_loss: 8.2327 - val_acc: 0.4800\n",
      "Epoch 25/70\n",
      " - 0s - loss: 6.1348 - acc: 0.6075 - val_loss: 8.0377 - val_acc: 0.5000\n",
      "Epoch 26/70\n",
      " - 0s - loss: 5.9030 - acc: 0.6300 - val_loss: 7.8683 - val_acc: 0.5000\n",
      "Epoch 27/70\n",
      " - 0s - loss: 5.8337 - acc: 0.6325 - val_loss: 7.7013 - val_acc: 0.5100\n",
      "Epoch 28/70\n",
      " - 0s - loss: 5.6479 - acc: 0.6425 - val_loss: 7.4676 - val_acc: 0.5100\n",
      "Epoch 29/70\n",
      " - 0s - loss: 5.7346 - acc: 0.6400 - val_loss: 7.3356 - val_acc: 0.5400\n",
      "Epoch 30/70\n",
      " - 0s - loss: 5.6033 - acc: 0.6475 - val_loss: 7.2807 - val_acc: 0.5400\n",
      "Epoch 31/70\n",
      " - 0s - loss: 5.6079 - acc: 0.6475 - val_loss: 7.1023 - val_acc: 0.5600\n",
      "Epoch 32/70\n",
      " - 0s - loss: 5.5214 - acc: 0.6575 - val_loss: 7.0968 - val_acc: 0.5600\n",
      "Epoch 33/70\n",
      " - 0s - loss: 5.6218 - acc: 0.6425 - val_loss: 7.1652 - val_acc: 0.5500\n",
      "Epoch 34/70\n",
      " - 0s - loss: 5.4176 - acc: 0.6600 - val_loss: 7.2531 - val_acc: 0.5500\n",
      "Epoch 35/70\n",
      " - 0s - loss: 5.4327 - acc: 0.6625 - val_loss: 7.2531 - val_acc: 0.5500\n",
      "Epoch 36/70\n",
      " - 0s - loss: 5.3854 - acc: 0.6650 - val_loss: 7.2531 - val_acc: 0.5500\n",
      "Epoch 37/70\n",
      " - 0s - loss: 5.3996 - acc: 0.6650 - val_loss: 7.2233 - val_acc: 0.5500\n",
      "Epoch 38/70\n",
      " - 0s - loss: 5.3594 - acc: 0.6675 - val_loss: 7.2339 - val_acc: 0.5400\n",
      "Epoch 39/70\n",
      " - 0s - loss: 5.3741 - acc: 0.6650 - val_loss: 7.2869 - val_acc: 0.5400\n",
      "Epoch 40/70\n",
      " - 0s - loss: 5.3996 - acc: 0.6625 - val_loss: 7.2831 - val_acc: 0.5400\n",
      "Epoch 41/70\n",
      " - 0s - loss: 5.3730 - acc: 0.6650 - val_loss: 7.2537 - val_acc: 0.5500\n",
      "Epoch 42/70\n",
      " - 0s - loss: 5.3446 - acc: 0.6650 - val_loss: 7.2279 - val_acc: 0.5500\n",
      "Epoch 43/70\n",
      " - 0s - loss: 5.2718 - acc: 0.6700 - val_loss: 7.2055 - val_acc: 0.5500\n",
      "Epoch 44/70\n",
      " - 0s - loss: 5.2416 - acc: 0.6725 - val_loss: 7.1319 - val_acc: 0.5500\n",
      "Epoch 45/70\n",
      " - 0s - loss: 5.1662 - acc: 0.6750 - val_loss: 7.0925 - val_acc: 0.5600\n",
      "Epoch 46/70\n",
      " - 0s - loss: 5.1981 - acc: 0.6775 - val_loss: 7.1234 - val_acc: 0.5500\n",
      "Epoch 47/70\n",
      " - 0s - loss: 5.1183 - acc: 0.6800 - val_loss: 7.1975 - val_acc: 0.5500\n",
      "Epoch 48/70\n",
      " - 0s - loss: 5.1175 - acc: 0.6825 - val_loss: 7.2531 - val_acc: 0.5500\n",
      "Epoch 49/70\n",
      " - 0s - loss: 5.1375 - acc: 0.6775 - val_loss: 7.2531 - val_acc: 0.5500\n",
      "Epoch 50/70\n",
      " - 0s - loss: 5.0926 - acc: 0.6800 - val_loss: 7.2532 - val_acc: 0.5500\n",
      "Epoch 51/70\n",
      " - 0s - loss: 5.0284 - acc: 0.6875 - val_loss: 7.2558 - val_acc: 0.5500\n",
      "Epoch 52/70\n",
      " - 0s - loss: 5.0369 - acc: 0.6875 - val_loss: 7.3198 - val_acc: 0.5400\n",
      "Epoch 53/70\n",
      " - 0s - loss: 4.9725 - acc: 0.6850 - val_loss: 7.1774 - val_acc: 0.5400\n",
      "Epoch 54/70\n",
      " - 0s - loss: 5.1602 - acc: 0.6750 - val_loss: 7.0937 - val_acc: 0.5600\n",
      "Epoch 55/70\n",
      " - 0s - loss: 4.9881 - acc: 0.6875 - val_loss: 7.0920 - val_acc: 0.5600\n",
      "Epoch 56/70\n",
      " - 0s - loss: 4.9748 - acc: 0.6875 - val_loss: 7.0920 - val_acc: 0.5600\n",
      "Epoch 57/70\n",
      " - 0s - loss: 4.9976 - acc: 0.6875 - val_loss: 7.0756 - val_acc: 0.5600\n",
      "Epoch 58/70\n",
      " - 0s - loss: 4.9538 - acc: 0.6925 - val_loss: 6.9734 - val_acc: 0.5600\n",
      "Epoch 59/70\n",
      " - 0s - loss: 4.8948 - acc: 0.6950 - val_loss: 6.9308 - val_acc: 0.5700\n",
      "Epoch 60/70\n",
      " - 0s - loss: 4.8706 - acc: 0.6975 - val_loss: 6.8988 - val_acc: 0.5700\n",
      "Epoch 61/70\n",
      " - 0s - loss: 4.8425 - acc: 0.6975 - val_loss: 6.7718 - val_acc: 0.5800\n",
      "Epoch 62/70\n",
      " - 0s - loss: 4.7306 - acc: 0.7000 - val_loss: 6.0483 - val_acc: 0.6000\n",
      "Epoch 63/70\n",
      " - 0s - loss: 4.4094 - acc: 0.7225 - val_loss: 5.7953 - val_acc: 0.6300\n",
      "Epoch 64/70\n",
      " - 0s - loss: 4.1313 - acc: 0.7375 - val_loss: 5.7818 - val_acc: 0.6200\n",
      "Epoch 65/70\n",
      " - 0s - loss: 3.8043 - acc: 0.7550 - val_loss: 6.0003 - val_acc: 0.6200\n",
      "Epoch 66/70\n",
      " - 0s - loss: 3.8427 - acc: 0.7525 - val_loss: 5.9812 - val_acc: 0.6000\n",
      "Epoch 67/70\n",
      " - 0s - loss: 3.8010 - acc: 0.7525 - val_loss: 5.7555 - val_acc: 0.6200\n",
      "Epoch 68/70\n",
      " - 0s - loss: 3.6939 - acc: 0.7550 - val_loss: 5.8200 - val_acc: 0.6300\n",
      "Epoch 69/70\n",
      " - 0s - loss: 3.4741 - acc: 0.7775 - val_loss: 5.8083 - val_acc: 0.6400\n",
      "Epoch 70/70\n",
      " - 0s - loss: 3.4327 - acc: 0.7850 - val_loss: 5.8025 - val_acc: 0.6400\n",
      "Error: 36.0\n"
     ]
    }
   ],
   "source": [
    "# build the model\n",
    "cnn_model = simple_cnn_model()\n",
    "# Fit the model\n",
    "cnn_model.fit(cnn_train_img, cnn_train_lbl, validation_data=(cnn_test_img, cnn_test_lbl), epochs=70, batch_size=400, verbose=2)\n",
    "# Final evaluation of the model\n",
    "scores = cnn_model.evaluate(cnn_test_img, cnn_test_lbl, verbose=0)\n",
    "print(\"Error: {}\".format(100-scores[1]*100))"
   ]
  },
  {
   "cell_type": "markdown",
   "metadata": {},
   "source": [
    "As we can see our CNN model is barely reaching the accuracy of 78% Which is not typical for CNN model. This could be because any neural network will train itself better when it has lots of images at its disposal. But we are tyring to restrict our model to use only 500 images (train (400)+ test (100) images). Hence our model is struggling a bit. As discussed earlier we can use the image agumentation process to get more data for ourselves from the existing images. Which is certainly will be my top of priority if I had more time to do this assignment."
   ]
  },
  {
   "cell_type": "code",
   "execution_count": 66,
   "metadata": {},
   "outputs": [],
   "source": [
    "pred = cnn_model.predict_classes(np.reshape(test_img[9],(1,28,28,1)))"
   ]
  },
  {
   "cell_type": "markdown",
   "metadata": {},
   "source": [
    "#### Save keras model as json file and weights as HDF5 format"
   ]
  },
  {
   "cell_type": "code",
   "execution_count": 67,
   "metadata": {},
   "outputs": [
    {
     "name": "stdout",
     "output_type": "stream",
     "text": [
      "Saved model to disk\n"
     ]
    }
   ],
   "source": [
    "# serialize model to JSON\n",
    "model_json = cnn_model.to_json()\n",
    "with open(\"cnn_model_test.json\", \"w\") as json_file:\n",
    "    json_file.write(model_json)\n",
    "# serialize weights to HDF5\n",
    "cnn_model.save_weights(\"cnn_model.h5\")\n",
    "print(\"Saved model to disk\")"
   ]
  },
  {
   "cell_type": "code",
   "execution_count": 68,
   "metadata": {},
   "outputs": [
    {
     "data": {
      "text/plain": [
       "'2.2.2'"
      ]
     },
     "execution_count": 68,
     "metadata": {},
     "output_type": "execute_result"
    }
   ],
   "source": [
    "import keras\n",
    "keras.__version__"
   ]
  },
  {
   "cell_type": "markdown",
   "metadata": {},
   "source": [
    "### Load the model from disk. This is for testing purpose only need to move it to the new notebook."
   ]
  },
  {
   "cell_type": "code",
   "execution_count": 69,
   "metadata": {},
   "outputs": [
    {
     "name": "stdout",
     "output_type": "stream",
     "text": [
      "Loaded model from disk\n",
      "acc: 72.0\n"
     ]
    }
   ],
   "source": [
    "from keras.models import model_from_json\n",
    "# load json and create model\n",
    "json_file = open('cnn_model_test.json', 'r')\n",
    "loaded_model_json = json_file.read()\n",
    "json_file.close()\n",
    "loaded_model = model_from_json(loaded_model_json)\n",
    "# load weights into new model\n",
    "loaded_model.load_weights(\"model.h5\")\n",
    "print(\"Loaded model from disk\")\n",
    " \n",
    "# evaluate loaded model on test data\n",
    "loaded_model.compile(loss='categorical_crossentropy', optimizer='adam', metrics=['accuracy'])\n",
    "#score = loaded_model.evaluate(X, Y, verbose=0)\n",
    "score = loaded_model.evaluate(cnn_test_img, cnn_test_lbl, verbose=0)\n",
    "print(\"{}: {}\".format(loaded_model.metrics_names[1], score[1]*100))"
   ]
  },
  {
   "cell_type": "code",
   "execution_count": 70,
   "metadata": {},
   "outputs": [
    {
     "data": {
      "text/plain": [
       "(array([2]), array([0., 0., 0., 0., 0., 0., 0., 0., 1., 0.], dtype=float32))"
      ]
     },
     "execution_count": 70,
     "metadata": {},
     "output_type": "execute_result"
    }
   ],
   "source": [
    "y=loaded_model.predict_classes(np.reshape(cnn_test_img[30],(1,28,28,1)))\n",
    "y, cnn_test_lbl[30]"
   ]
  },
  {
   "cell_type": "code",
   "execution_count": null,
   "metadata": {},
   "outputs": [],
   "source": []
  }
 ],
 "metadata": {
  "kernelspec": {
   "display_name": "Python [conda env:py35]",
   "language": "python",
   "name": "conda-env-py35-py"
  },
  "language_info": {
   "codemirror_mode": {
    "name": "ipython",
    "version": 3
   },
   "file_extension": ".py",
   "mimetype": "text/x-python",
   "name": "python",
   "nbconvert_exporter": "python",
   "pygments_lexer": "ipython3",
   "version": "3.5.6"
  }
 },
 "nbformat": 4,
 "nbformat_minor": 2
}
