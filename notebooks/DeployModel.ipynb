{
 "cells": [
  {
   "cell_type": "code",
   "execution_count": 13,
   "metadata": {},
   "outputs": [
    {
     "name": "stdout",
     "output_type": "stream",
     "text": [
      "The autoreload extension is already loaded. To reload it, use:\n",
      "  %reload_ext autoreload\n"
     ]
    }
   ],
   "source": [
    "%load_ext autoreload\n",
    "%autoreload 2\n",
    "%matplotlib inline"
   ]
  },
  {
   "cell_type": "code",
   "execution_count": 14,
   "metadata": {},
   "outputs": [],
   "source": [
    "import pickle\n",
    "import numpy as np\n",
    "import cv2"
   ]
  },
  {
   "cell_type": "code",
   "execution_count": 15,
   "metadata": {},
   "outputs": [],
   "source": [
    "def predict(modelFile,x_test):\n",
    "    model = pickle.load(open(modelFile, 'rb'))\n",
    "    predict = model.predict(x_test)\n",
    "    return predict"
   ]
  },
  {
   "cell_type": "code",
   "execution_count": 16,
   "metadata": {},
   "outputs": [],
   "source": [
    "def processImage(imgFile):\n",
    "    #color information is not required in this model.\n",
    "    #hence read the image file as grayscale image.\n",
    "    img = cv2.imread(imgFile, cv2.IMREAD_GRAYSCALE)\n",
    "    retArr = np.array([])\n",
    "    if img is None:\n",
    "        print('Cannot open file {}'.format(imgFile))\n",
    "        return retArr\n",
    "    else :\n",
    "        #print('Image is fine')\n",
    "        #Binarize the image.\n",
    "        thresh = 0\n",
    "        maxValue = 255\n",
    "        th, dst = cv2.threshold(img, thresh, maxValue, cv2.THRESH_BINARY)\n",
    "        #re-size the image to 28*28 as that is the dimention \n",
    "        #our MNIST model is trained against.\n",
    "        compatibleSize = (28,28)\n",
    "        re_size_img = cv2.resize(dst, compatibleSize)\n",
    "        #Flatten the image in to 1d array\n",
    "        img_flat = np.array(re_size_img.flatten())\n",
    "        retArr = np.reshape(img_flat,(1,28*28))\n",
    "        return retArr"
   ]
  },
  {
   "cell_type": "code",
   "execution_count": 26,
   "metadata": {},
   "outputs": [],
   "source": [
    "modelFile = 'logistic_regression_model_default.pkl'\n",
    "imgFile = 'my_5.png'"
   ]
  },
  {
   "cell_type": "code",
   "execution_count": 27,
   "metadata": {},
   "outputs": [
    {
     "name": "stdout",
     "output_type": "stream",
     "text": [
      "Image is fine\n",
      "prediction is = [5.]\n"
     ]
    }
   ],
   "source": [
    "arr = processImage(imgFile)\n",
    "if arr.size == 0:\n",
    "    print('Problem with the image file : {}'.format(imgFile))\n",
    "else:\n",
    "    res = predict(modelFile, arr)\n",
    "    print ('prediction is = {}'.format(res))"
   ]
  }
 ],
 "metadata": {
  "kernelspec": {
   "display_name": "Python 3",
   "language": "python",
   "name": "python3"
  },
  "language_info": {
   "codemirror_mode": {
    "name": "ipython",
    "version": 3
   },
   "file_extension": ".py",
   "mimetype": "text/x-python",
   "name": "python",
   "nbconvert_exporter": "python",
   "pygments_lexer": "ipython3",
   "version": "3.6.6"
  }
 },
 "nbformat": 4,
 "nbformat_minor": 2
}
